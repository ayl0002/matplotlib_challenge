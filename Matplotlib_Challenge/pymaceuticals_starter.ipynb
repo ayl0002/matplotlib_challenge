{
 "cells": [
  {
   "cell_type": "markdown",
   "metadata": {},
   "source": [
    "## Observations and Insights"
   ]
  },
  {
   "cell_type": "markdown",
   "metadata": {},
   "source": []
  },
  {
   "cell_type": "markdown",
   "metadata": {},
   "source": [
    "## Dependencies and starter code"
   ]
  },
  {
   "cell_type": "code",
   "execution_count": 1,
   "metadata": {
    "scrolled": true
   },
   "outputs": [],
   "source": [
    "# Dependencies and Setup\n",
    "import matplotlib.pyplot as plt\n",
    "import pandas as pd\n",
    "import scipy.stats as st\n",
    "import numpy as np\n",
    "\n",
    "# Study data files\n",
    "mouse_metadata = \"data/Mouse_metadata.csv\"\n",
    "study_results = \"data/Study_results.csv\"\n",
    "\n",
    "# Read the mouse data and the study results\n",
    "mouse_metadata = pd.read_csv(mouse_metadata)\n",
    "study_results = pd.read_csv(study_results)\n",
    "\n",
    "# Combine the data into a single dataset\n",
    "\n",
    "mouse_data = pd.DataFrame(pd.merge(mouse_metadata,study_results,left_on = [\"Mouse ID\"],right_on = [\"Mouse ID\"]))\n"
   ]
  },
  {
   "cell_type": "markdown",
   "metadata": {},
   "source": [
    "## Summary statistics"
   ]
  },
  {
   "cell_type": "code",
   "execution_count": 2,
   "metadata": {},
   "outputs": [
    {
     "data": {
      "text/html": [
       "<div>\n",
       "<style scoped>\n",
       "    .dataframe tbody tr th:only-of-type {\n",
       "        vertical-align: middle;\n",
       "    }\n",
       "\n",
       "    .dataframe tbody tr th {\n",
       "        vertical-align: top;\n",
       "    }\n",
       "\n",
       "    .dataframe thead th {\n",
       "        text-align: right;\n",
       "    }\n",
       "</style>\n",
       "<table border=\"1\" class=\"dataframe\">\n",
       "  <thead>\n",
       "    <tr style=\"text-align: right;\">\n",
       "      <th></th>\n",
       "      <th>Mean of Tumor Volume (mm3)</th>\n",
       "      <th>Median of Tumor Volume (mm3)</th>\n",
       "      <th>Standard Deviation of Tumor Volume (mm3)</th>\n",
       "      <th>Variance of Tumor Volume (mm3)</th>\n",
       "    </tr>\n",
       "    <tr>\n",
       "      <th>Drug Regimen</th>\n",
       "      <th></th>\n",
       "      <th></th>\n",
       "      <th></th>\n",
       "      <th></th>\n",
       "    </tr>\n",
       "  </thead>\n",
       "  <tbody>\n",
       "    <tr>\n",
       "      <td>Capomulin</td>\n",
       "      <td>40.675741</td>\n",
       "      <td>41.557809</td>\n",
       "      <td>4.994774</td>\n",
       "      <td>24.947764</td>\n",
       "    </tr>\n",
       "    <tr>\n",
       "      <td>Ceftamin</td>\n",
       "      <td>52.591172</td>\n",
       "      <td>51.776157</td>\n",
       "      <td>6.268188</td>\n",
       "      <td>39.290177</td>\n",
       "    </tr>\n",
       "    <tr>\n",
       "      <td>Infubinol</td>\n",
       "      <td>52.884795</td>\n",
       "      <td>51.820584</td>\n",
       "      <td>6.567243</td>\n",
       "      <td>43.128684</td>\n",
       "    </tr>\n",
       "    <tr>\n",
       "      <td>Ketapril</td>\n",
       "      <td>55.235638</td>\n",
       "      <td>53.698743</td>\n",
       "      <td>8.279709</td>\n",
       "      <td>68.553577</td>\n",
       "    </tr>\n",
       "    <tr>\n",
       "      <td>Naftisol</td>\n",
       "      <td>54.331565</td>\n",
       "      <td>52.509285</td>\n",
       "      <td>8.134708</td>\n",
       "      <td>66.173479</td>\n",
       "    </tr>\n",
       "    <tr>\n",
       "      <td>Placebo</td>\n",
       "      <td>54.033581</td>\n",
       "      <td>52.288934</td>\n",
       "      <td>7.821003</td>\n",
       "      <td>61.168083</td>\n",
       "    </tr>\n",
       "    <tr>\n",
       "      <td>Propriva</td>\n",
       "      <td>52.322552</td>\n",
       "      <td>50.854632</td>\n",
       "      <td>6.507770</td>\n",
       "      <td>42.351070</td>\n",
       "    </tr>\n",
       "    <tr>\n",
       "      <td>Ramicane</td>\n",
       "      <td>40.216745</td>\n",
       "      <td>40.673236</td>\n",
       "      <td>4.846308</td>\n",
       "      <td>23.486704</td>\n",
       "    </tr>\n",
       "    <tr>\n",
       "      <td>Stelasyn</td>\n",
       "      <td>54.233149</td>\n",
       "      <td>52.431737</td>\n",
       "      <td>7.710419</td>\n",
       "      <td>59.450562</td>\n",
       "    </tr>\n",
       "    <tr>\n",
       "      <td>Zoniferol</td>\n",
       "      <td>53.236507</td>\n",
       "      <td>51.818479</td>\n",
       "      <td>6.966589</td>\n",
       "      <td>48.533355</td>\n",
       "    </tr>\n",
       "  </tbody>\n",
       "</table>\n",
       "</div>"
      ],
      "text/plain": [
       "              Mean of Tumor Volume (mm3)  Median of Tumor Volume (mm3)  \\\n",
       "Drug Regimen                                                             \n",
       "Capomulin                      40.675741                     41.557809   \n",
       "Ceftamin                       52.591172                     51.776157   \n",
       "Infubinol                      52.884795                     51.820584   \n",
       "Ketapril                       55.235638                     53.698743   \n",
       "Naftisol                       54.331565                     52.509285   \n",
       "Placebo                        54.033581                     52.288934   \n",
       "Propriva                       52.322552                     50.854632   \n",
       "Ramicane                       40.216745                     40.673236   \n",
       "Stelasyn                       54.233149                     52.431737   \n",
       "Zoniferol                      53.236507                     51.818479   \n",
       "\n",
       "              Standard Deviation of Tumor Volume (mm3)  \\\n",
       "Drug Regimen                                             \n",
       "Capomulin                                     4.994774   \n",
       "Ceftamin                                      6.268188   \n",
       "Infubinol                                     6.567243   \n",
       "Ketapril                                      8.279709   \n",
       "Naftisol                                      8.134708   \n",
       "Placebo                                       7.821003   \n",
       "Propriva                                      6.507770   \n",
       "Ramicane                                      4.846308   \n",
       "Stelasyn                                      7.710419   \n",
       "Zoniferol                                     6.966589   \n",
       "\n",
       "              Variance of Tumor Volume (mm3)  \n",
       "Drug Regimen                                  \n",
       "Capomulin                          24.947764  \n",
       "Ceftamin                           39.290177  \n",
       "Infubinol                          43.128684  \n",
       "Ketapril                           68.553577  \n",
       "Naftisol                           66.173479  \n",
       "Placebo                            61.168083  \n",
       "Propriva                           42.351070  \n",
       "Ramicane                           23.486704  \n",
       "Stelasyn                           59.450562  \n",
       "Zoniferol                          48.533355  "
      ]
     },
     "execution_count": 2,
     "metadata": {},
     "output_type": "execute_result"
    }
   ],
   "source": [
    "# Generate a summary statistics table of mean, median, variance, standard deviation, and SEM of the tumor volume for each regimen\n",
    "\n",
    "drug_group = mouse_data.groupby(\"Drug Regimen\")\n",
    "\n",
    "drug_stat = pd.DataFrame(drug_group[\"Tumor Volume (mm3)\"].mean())\n",
    "\n",
    "drug_group[\"Tumor Volume (mm3)\"].median()\n",
    "\n",
    "drug_stat = pd.DataFrame(pd.merge(drug_stat,drug_group[\"Tumor Volume (mm3)\"].median(),left_on = [\"Drug Regimen\"],right_on = [\"Drug Regimen\"]))\n",
    "\n",
    "drug_stat = drug_stat.rename(columns = {\"Tumor Volume (mm3)_x\":\"Mean of Tumor Volume (mm3)\",\n",
    "                                                         \"Tumor Volume (mm3)_y\":\"Median of Tumor Volume (mm3)\" })\n",
    "\n",
    "drug_stat = pd.DataFrame(pd.merge(drug_stat,drug_group[\"Tumor Volume (mm3)\"].std(),left_on = [\"Drug Regimen\"],right_on = [\"Drug Regimen\"]))\n",
    "\n",
    "drug_stat = pd.DataFrame(pd.merge(drug_stat,drug_group[\"Tumor Volume (mm3)\"].var(),left_on = [\"Drug Regimen\"],right_on = [\"Drug Regimen\"]))\n",
    "\n",
    "drug_stat = pd.DataFrame(drug_stat.rename(columns = {\"Tumor Volume (mm3)_x\":\"Standard Deviation of Tumor Volume (mm3)\",\n",
    "                                                         \"Tumor Volume (mm3)_y\":\"Variance of Tumor Volume (mm3)\" }))\n",
    "\n",
    "drug_stat\n",
    "\n"
   ]
  },
  {
   "cell_type": "markdown",
   "metadata": {},
   "source": [
    "## Bar plots"
   ]
  },
  {
   "cell_type": "code",
   "execution_count": 3,
   "metadata": {},
   "outputs": [
    {
     "data": {
      "text/plain": [
       "<matplotlib.axes._subplots.AxesSubplot at 0x1c1318d4bc8>"
      ]
     },
     "execution_count": 3,
     "metadata": {},
     "output_type": "execute_result"
    },
    {
     "data": {
      "image/png": "[encoded data removed]",
      "text/plain": [
       "<Figure size 1440x720 with 1 Axes>"
      ]
     },
     "metadata": {
      "needs_background": "light"
     },
     "output_type": "display_data"
    }
   ],
   "source": [
    "# Generate a bar plot showing number of data points for each treatment regimen using pandas\n",
    "\n",
    "py_bar = pd.DataFrame(drug_group[\"Mouse ID\"].count())\n",
    "\n",
    "py_bar = pd.merge(py_bar,drug_group[\"Sex\"].count(),left_on = [\"Drug Regimen\"],right_on = [\"Drug Regimen\"])\n",
    "\n",
    "py_bar = pd.merge(py_bar,drug_group[\"Age_months\"].count(),left_on = [\"Drug Regimen\"],right_on = [\"Drug Regimen\"])\n",
    "\n",
    "py_bar = pd.merge(py_bar,drug_group[\"Weight (g)\"].count(),left_on = [\"Drug Regimen\"],right_on = [\"Drug Regimen\"])\n",
    "\n",
    "py_bar = pd.merge(py_bar,drug_group[\"Timepoint\"].count(),left_on = [\"Drug Regimen\"],right_on = [\"Drug Regimen\"])\n",
    "\n",
    "\n",
    "py_bar = pd.merge(py_bar,drug_group[\"Tumor Volume (mm3)\"].count(),left_on = [\"Drug Regimen\"],right_on = [\"Drug Regimen\"])\n",
    "\n",
    "py_bar= pd.merge(py_bar,drug_group[\"Metastatic Sites\"].count(),left_on = [\"Drug Regimen\"],right_on = [\"Drug Regimen\"])\n",
    "\n",
    "py_bar.plot.bar(figsize=(20,10),title = \"Count of Data Points\")\n",
    "\n"
   ]
  },
  {
   "cell_type": "code",
   "execution_count": 36,
   "metadata": {},
   "outputs": [
    {
     "data": {
      "text/plain": [
       "(-1, 600)"
      ]
     },
     "execution_count": 36,
     "metadata": {},
     "output_type": "execute_result"
    },
    {
     "data": {
      "image/png": "[encoded data removed]",
      "text/plain": [
       "<Figure size 432x288 with 1 Axes>"
      ]
     },
     "metadata": {
      "needs_background": "light"
     },
     "output_type": "display_data"
    }
   ],
   "source": [
    "#Generate a bar plot showing number of data points for each treatment regimen using pyplot\n",
    "\n",
    "\n",
    "x_axis = np.arange(len(mouse_data[\"Drug Regimen\"].unique()))\n",
    "\n",
    "             \n",
    "width = 0.1\n",
    "\n",
    "\n",
    "sex_count = drug_group[\"Sex\"].count()\n",
    "\n",
    "ID_count = drug_group[\"Mouse ID\"].count()\n",
    "\n",
    "Age_months_count = drug_group[\"Age_months\"].count()\n",
    "\n",
    "Weight_count= drug_group[\"Weight (g)\"].count()\n",
    "\n",
    "Timepoint_count = drug_group[\"Timepoint\"].count()\n",
    "\n",
    "Tumor_Volume_count = drug_group[\"Tumor Volume (mm3)\"].count()\n",
    "\n",
    "Metastatic_Sites_count = drug_group[\"Metastatic Sites\"].count()\n",
    "\n",
    "\n",
    "\n",
    "\n",
    "ax = plt.subplot()\n",
    "\n",
    "axes = plt.gca()\n",
    "\n",
    "\n",
    "\n",
    "ax.bar(x_axis,ID_count,  width, color='g', align=\"center\",label ='Mouse ID')\n",
    "\n",
    "ax.bar(x_axis-width,sex_count, width, color='r', align=\"center\",label ='Sex')\n",
    "\n",
    "ax.bar(x_axis+width,sex_count, width, color='b', align=\"center\",label ='Age_months')\n",
    "\n",
    "ax.bar(x_axis-width-width,Weight_count, width, color='c', align=\"center\",label ='Weight')\n",
    "\n",
    "ax.bar(x_axis+width+width,Timepoint_count, width, color='k', align=\"center\",label ='Timepoint')\n",
    "\n",
    "ax.bar(x_axis+width+width+width,Tumor_Volume_count, width, color='y', align=\"center\",label ='Tumor Volume (mm3)')\n",
    "\n",
    "ax.bar(x_axis-width-width-width,Metastatic_Sites_count, width, color='m', align=\"center\",label ='Metastatic Sites')\n",
    "\n",
    "\n",
    "\n",
    "plt.xticks(x_axis,('Ramicane', 'Capomulin', 'Infubinol', 'Placebo', 'Ceftamin',\n",
    "       'Stelasyn', 'Zoniferol', 'Ketapril', 'Propriva', 'Naftisol'),rotation=90)\n",
    "\n",
    "plt.title(\"Count of DataPoints by Drug Regimen\")\n",
    "\n",
    "plt.xlabel(\"Regimen\")\n",
    "\n",
    "plt.legend(loc = 'best')\n",
    "\n",
    "plt.autoscale()\n",
    "\n",
    "axes.set_ylim(-1,600)\n"
   ]
  },
  {
   "cell_type": "markdown",
   "metadata": {},
   "source": [
    "## Pie plots"
   ]
  },
  {
   "cell_type": "code",
   "execution_count": 5,
   "metadata": {},
   "outputs": [],
   "source": [
    "# Generate a pie plot showing the distribution of female versus male mice using pandas\n",
    "\n",
    "\n"
   ]
  },
  {
   "cell_type": "code",
   "execution_count": 6,
   "metadata": {},
   "outputs": [],
   "source": [
    "# Generate a pie plot showing the distribution of female versus male mice using pyplot"
   ]
  },
  {
   "cell_type": "markdown",
   "metadata": {},
   "source": [
    "## Quartiles, outliers and boxplots"
   ]
  },
  {
   "cell_type": "code",
   "execution_count": 7,
   "metadata": {},
   "outputs": [],
   "source": [
    "# Calculate the final tumor volume of each mouse across four of the most promising treatment regimens. Calculate the IQR and quantitatively determine if there are any potential outliers. "
   ]
  },
  {
   "cell_type": "code",
   "execution_count": 8,
   "metadata": {},
   "outputs": [],
   "source": [
    "# Generate a box plot of the final tumor volume of each mouse across four regimens of interest"
   ]
  },
  {
   "cell_type": "markdown",
   "metadata": {},
   "source": [
    "## Line and scatter plots"
   ]
  },
  {
   "cell_type": "code",
   "execution_count": 9,
   "metadata": {},
   "outputs": [],
   "source": [
    "# Generate a line plot of time point versus tumor volume for a mouse treated with Capomulin"
   ]
  },
  {
   "cell_type": "code",
   "execution_count": 10,
   "metadata": {},
   "outputs": [],
   "source": [
    "# Generate a scatter plot of mouse weight versus average tumor volume for the Capomulin regimen"
   ]
  },
  {
   "cell_type": "code",
   "execution_count": 11,
   "metadata": {},
   "outputs": [],
   "source": [
    "# Calculate the correlation coefficient and linear regression model for mouse weight and average tumor volume for the Capomulin regimen"
   ]
  },
  {
   "cell_type": "code",
   "execution_count": null,
   "metadata": {},
   "outputs": [],
   "source": []
  }
 ],
 "metadata": {
  "anaconda-cloud": {},
  "kernelspec": {
   "display_name": "Python 3",
   "language": "python",
   "name": "python3"
  },
  "language_info": {
   "codemirror_mode": {
    "name": "ipython",
    "version": 3
   },
   "file_extension": ".py",
   "mimetype": "text/x-python",
   "name": "python",
   "nbconvert_exporter": "python",
   "pygments_lexer": "ipython3",
   "version": "3.7.4"
  }
 },
 "nbformat": 4,
 "nbformat_minor": 2
}
